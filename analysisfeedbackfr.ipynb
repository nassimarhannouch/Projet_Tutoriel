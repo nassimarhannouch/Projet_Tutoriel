{
 "cells": [
  {
   "cell_type": "code",
   "execution_count": 2,
   "id": "4acb6e91",
   "metadata": {},
   "outputs": [
    {
     "name": "stderr",
     "output_type": "stream",
     "text": [
      "[nltk_data] Downloading package punkt to C:\\Users\\WIJDANE\n",
      "[nltk_data]     TAFTAF\\AppData\\Roaming\\nltk_data...\n",
      "[nltk_data]   Package punkt is already up-to-date!\n",
      "[nltk_data] Downloading package stopwords to C:\\Users\\WIJDANE\n",
      "[nltk_data]     TAFTAF\\AppData\\Roaming\\nltk_data...\n",
      "[nltk_data]   Package stopwords is already up-to-date!\n"
     ]
    },
    {
     "data": {
      "text/plain": [
       "True"
      ]
     },
     "execution_count": 2,
     "metadata": {},
     "output_type": "execute_result"
    }
   ],
   "source": [
    "import nltk\n",
    "nltk.download('punkt')\n",
    "nltk.download('stopwords')\n"
   ]
  },
  {
   "cell_type": "markdown",
   "id": "05846e21",
   "metadata": {},
   "source": [
    "# charger dataset en fr "
   ]
  },
  {
   "cell_type": "code",
   "execution_count": 2,
   "id": "10da4e21",
   "metadata": {},
   "outputs": [
    {
     "name": "stdout",
     "output_type": "stream",
     "text": [
      "   id                                    commentaire sentiment\n",
      "0   1   Le contenu est intéressant et bien expliqué.   positif\n",
      "1   2         Formation neutre, pas très engageante.    neutre\n",
      "2   3  Le professeur ne répondait pas aux questions.   négatif\n",
      "3   4   Le cours était très clair et bien structuré.   positif\n",
      "4   5   Le cours était très clair et bien structuré.   positif\n"
     ]
    }
   ],
   "source": [
    "import pandas as pd\n",
    "\n",
    "# Charger le dataset en français\n",
    "df = pd.read_csv(\"dataset_feedbacks_etudiants_fr.csv\")\n",
    "\n",
    "print(df.head())\n"
   ]
  },
  {
   "cell_type": "code",
   "execution_count": 3,
   "id": "7225e9d4",
   "metadata": {},
   "outputs": [
    {
     "data": {
      "text/html": [
       "<div>\n",
       "<style scoped>\n",
       "    .dataframe tbody tr th:only-of-type {\n",
       "        vertical-align: middle;\n",
       "    }\n",
       "\n",
       "    .dataframe tbody tr th {\n",
       "        vertical-align: top;\n",
       "    }\n",
       "\n",
       "    .dataframe thead th {\n",
       "        text-align: right;\n",
       "    }\n",
       "</style>\n",
       "<table border=\"1\" class=\"dataframe\">\n",
       "  <thead>\n",
       "    <tr style=\"text-align: right;\">\n",
       "      <th></th>\n",
       "      <th>id</th>\n",
       "      <th>commentaire</th>\n",
       "      <th>sentiment</th>\n",
       "    </tr>\n",
       "  </thead>\n",
       "  <tbody>\n",
       "    <tr>\n",
       "      <th>0</th>\n",
       "      <td>1</td>\n",
       "      <td>Le contenu est intéressant et bien expliqué.</td>\n",
       "      <td>positif</td>\n",
       "    </tr>\n",
       "    <tr>\n",
       "      <th>1</th>\n",
       "      <td>2</td>\n",
       "      <td>Formation neutre, pas très engageante.</td>\n",
       "      <td>neutre</td>\n",
       "    </tr>\n",
       "    <tr>\n",
       "      <th>2</th>\n",
       "      <td>3</td>\n",
       "      <td>Le professeur ne répondait pas aux questions.</td>\n",
       "      <td>négatif</td>\n",
       "    </tr>\n",
       "    <tr>\n",
       "      <th>3</th>\n",
       "      <td>4</td>\n",
       "      <td>Le cours était très clair et bien structuré.</td>\n",
       "      <td>positif</td>\n",
       "    </tr>\n",
       "    <tr>\n",
       "      <th>4</th>\n",
       "      <td>5</td>\n",
       "      <td>Le cours était très clair et bien structuré.</td>\n",
       "      <td>positif</td>\n",
       "    </tr>\n",
       "  </tbody>\n",
       "</table>\n",
       "</div>"
      ],
      "text/plain": [
       "   id                                    commentaire sentiment\n",
       "0   1   Le contenu est intéressant et bien expliqué.   positif\n",
       "1   2         Formation neutre, pas très engageante.    neutre\n",
       "2   3  Le professeur ne répondait pas aux questions.   négatif\n",
       "3   4   Le cours était très clair et bien structuré.   positif\n",
       "4   5   Le cours était très clair et bien structuré.   positif"
      ]
     },
     "execution_count": 3,
     "metadata": {},
     "output_type": "execute_result"
    }
   ],
   "source": [
    "df.head()"
   ]
  },
  {
   "cell_type": "code",
   "execution_count": 4,
   "id": "9e96d298",
   "metadata": {},
   "outputs": [
    {
     "data": {
      "text/plain": [
       "<bound method DataFrame.info of         id                                    commentaire sentiment\n",
       "0        1   Le contenu est intéressant et bien expliqué.   positif\n",
       "1        2         Formation neutre, pas très engageante.    neutre\n",
       "2        3  Le professeur ne répondait pas aux questions.   négatif\n",
       "3        4   Le cours était très clair et bien structuré.   positif\n",
       "4        5   Le cours était très clair et bien structuré.   positif\n",
       "...    ...                                            ...       ...\n",
       "1995  1996           Trop de devoirs, difficile à suivre.   négatif\n",
       "1996  1997  Le professeur ne répondait pas aux questions.   négatif\n",
       "1997  1998              Le cours était correct sans plus.    neutre\n",
       "1998  1999   Le cours était très clair et bien structuré.   positif\n",
       "1999  2000                Mauvaise organisation générale.   négatif\n",
       "\n",
       "[2000 rows x 3 columns]>"
      ]
     },
     "execution_count": 4,
     "metadata": {},
     "output_type": "execute_result"
    }
   ],
   "source": [
    "df.info"
   ]
  },
  {
   "cell_type": "code",
   "execution_count": 5,
   "id": "57d9d60c",
   "metadata": {},
   "outputs": [
    {
     "data": {
      "text/plain": [
       "Index(['id', 'commentaire', 'sentiment'], dtype='object')"
      ]
     },
     "execution_count": 5,
     "metadata": {},
     "output_type": "execute_result"
    }
   ],
   "source": [
    "df.columns"
   ]
  },
  {
   "cell_type": "code",
   "execution_count": 6,
   "id": "f6141368",
   "metadata": {},
   "outputs": [
    {
     "data": {
      "text/plain": [
       "<bound method NDFrame.describe of         id                                    commentaire sentiment\n",
       "0        1   Le contenu est intéressant et bien expliqué.   positif\n",
       "1        2         Formation neutre, pas très engageante.    neutre\n",
       "2        3  Le professeur ne répondait pas aux questions.   négatif\n",
       "3        4   Le cours était très clair et bien structuré.   positif\n",
       "4        5   Le cours était très clair et bien structuré.   positif\n",
       "...    ...                                            ...       ...\n",
       "1995  1996           Trop de devoirs, difficile à suivre.   négatif\n",
       "1996  1997  Le professeur ne répondait pas aux questions.   négatif\n",
       "1997  1998              Le cours était correct sans plus.    neutre\n",
       "1998  1999   Le cours était très clair et bien structuré.   positif\n",
       "1999  2000                Mauvaise organisation générale.   négatif\n",
       "\n",
       "[2000 rows x 3 columns]>"
      ]
     },
     "execution_count": 6,
     "metadata": {},
     "output_type": "execute_result"
    }
   ],
   "source": [
    "df.describe"
   ]
  },
  {
   "cell_type": "markdown",
   "id": "3f09ecc9",
   "metadata": {},
   "source": [
    "# Nettoyage et prétraitement du texte avec NLTK"
   ]
  },
  {
   "cell_type": "code",
   "execution_count": 7,
   "id": "00dbc30a",
   "metadata": {},
   "outputs": [],
   "source": [
    "import string\n",
    "from nltk.corpus import stopwords\n",
    "from nltk.tokenize import word_tokenize\n",
    "\n",
    "# Stopwords en français\n",
    "stop_words = set(stopwords.words('french'))\n",
    "\n",
    "# Fonction de nettoyage\n",
    "def preprocess_text(text):\n",
    "    # Minuscule\n",
    "    text = text.lower()\n",
    "    # Supprimer la ponctuation\n",
    "    text = ''.join([c for c in text if c not in string.punctuation])\n",
    "    # Tokenisation\n",
    "    tokens = word_tokenize(text, language='french')\n",
    "    # Retirer les stop words\n",
    "    tokens = [word for word in tokens if word not in stop_words]\n",
    "    return ' '.join(tokens)\n",
    "\n",
    "# Appliquer\n",
    "df['cleaned'] = df['commentaire'].apply(preprocess_text)\n",
    "\n",
    "\n",
    "# Stopwords en français\n",
    "stop_words = set(stopwords.words('french'))\n",
    "\n",
    "# Fonction de nettoyage\n",
    "def preprocess_text(text):\n",
    "    # Minuscule\n",
    "    text = text.lower()\n",
    "    # Supprimer la ponctuation\n",
    "    text = ''.join([c for c in text if c not in string.punctuation])\n",
    "    # Tokenisation\n",
    "    tokens = word_tokenize(text, language='french')\n",
    "    # Retirer les stop words\n",
    "    tokens = [word for word in tokens if word not in stop_words]\n",
    "    return ' '.join(tokens)\n",
    "\n",
    "# Appliquer\n",
    "df['cleaned'] = df['commentaire'].apply(preprocess_text)\n"
   ]
  },
  {
   "cell_type": "markdown",
   "id": "bb0a49ed",
   "metadata": {},
   "source": [
    "# definir  texte et étiquette"
   ]
  },
  {
   "cell_type": "code",
   "execution_count": 8,
   "id": "b319091a",
   "metadata": {},
   "outputs": [],
   "source": [
    "X = df['cleaned']\n",
    "y = df['sentiment']"
   ]
  },
  {
   "cell_type": "markdown",
   "id": "030f1d1b",
   "metadata": {},
   "source": [
    "# Vectorisation TF-IDF + Modèle Naive Bayes"
   ]
  },
  {
   "cell_type": "code",
   "execution_count": null,
   "id": "54089bc5",
   "metadata": {},
   "outputs": [
    {
     "name": "stdout",
     "output_type": "stream",
     "text": [
      "              precision    recall  f1-score   support\n",
      "\n",
      "      neutre       1.00      1.00      1.00       137\n",
      "     négatif       1.00      1.00      1.00       133\n",
      "     positif       1.00      1.00      1.00       130\n",
      "\n",
      "    accuracy                           1.00       400\n",
      "   macro avg       1.00      1.00      1.00       400\n",
      "weighted avg       1.00      1.00      1.00       400\n",
      "\n"
     ]
    }
   ],
   "source": [
    "from sklearn.model_selection import train_test_split\n",
    "from sklearn.feature_extraction.text import TfidfVectorizer\n",
    "from sklearn.naive_bayes import MultinomialNB\n",
    "from sklearn.pipeline import Pipeline\n",
    "from sklearn.metrics import classification_report\n",
    "\n",
    "# Découpage train/test\n",
    "X_train, X_test, y_train, y_test = train_test_split(X, y, test_size=0.2, random_state=42)\n",
    "\n",
    "\n",
    "pipeline = Pipeline([\n",
    "    ('tfidf', TfidfVectorizer(stop_words=list(stop_words))),\n",
    "    ('clf', MultinomialNB())\n",
    "])\n",
    "\n",
    "# Entraînement\n",
    "pipeline.fit(X_train, y_train)\n",
    "\n",
    "# Prédiction\n",
    "y_pred = pipeline.predict(X_test)\n",
    "\n",
    "# Évaluation\n",
    "print(classification_report(y_test, y_pred))\n"
   ]
  },
  {
   "cell_type": "code",
   "execution_count": 10,
   "id": "acab67cb",
   "metadata": {},
   "outputs": [
    {
     "data": {
      "text/plain": [
       "['sentiment_model_fr_nb.pkl']"
      ]
     },
     "execution_count": 10,
     "metadata": {},
     "output_type": "execute_result"
    }
   ],
   "source": [
    "import joblib\n",
    "joblib.dump(pipeline, \"sentiment_model_fr_nb.pkl\")"
   ]
  },
  {
   "cell_type": "code",
   "execution_count": 11,
   "id": "a45e7ce3",
   "metadata": {},
   "outputs": [
    {
     "name": "stdout",
     "output_type": "stream",
     "text": [
      "Sentiment prédit : positif\n"
     ]
    }
   ],
   "source": [
    "model = joblib.load(\"sentiment_model_fr_nb.pkl\")\n",
    "\n",
    "\n",
    "test100 = [\"Je trouve ce cours très utile et bien expliqué.\"]\n",
    "prediction = model.predict(test100)\n",
    "print(f\"Sentiment prédit : {prediction[0]}\")\n"
   ]
  },
  {
   "cell_type": "code",
   "execution_count": 13,
   "id": "f0b1c4fd",
   "metadata": {},
   "outputs": [
    {
     "data": {
      "image/png": "[encoded data removed]",
      "text/plain": [
       "<Figure size 640x480 with 2 Axes>"
      ]
     },
     "metadata": {},
     "output_type": "display_data"
    }
   ],
   "source": [
    "from sklearn.metrics import confusion_matrix, ConfusionMatrixDisplay\n",
    "import matplotlib.pyplot as plt\n",
    "\n",
    "# Générer la matrice de confusion\n",
    "cm = confusion_matrix(y_test, y_pred)\n",
    "\n",
    "# Afficher la matrice\n",
    "disp = ConfusionMatrixDisplay(confusion_matrix=cm, display_labels=pipeline.classes_)\n",
    "disp.plot(cmap=plt.cm.Purples)\n",
    "plt.title(\"Matrice de Confusion - Naive Bayes\")\n",
    "plt.show()\n"
   ]
  }
 ],
 "metadata": {
  "kernelspec": {
   "display_name": "Python 3",
   "language": "python",
   "name": "python3"
  },
  "language_info": {
   "codemirror_mode": {
    "name": "ipython",
    "version": 3
   },
   "file_extension": ".py",
   "mimetype": "text/x-python",
   "name": "python",
   "nbconvert_exporter": "python",
   "pygments_lexer": "ipython3",
   "version": "3.11.6"
  }
 },
 "nbformat": 4,
 "nbformat_minor": 5
}
